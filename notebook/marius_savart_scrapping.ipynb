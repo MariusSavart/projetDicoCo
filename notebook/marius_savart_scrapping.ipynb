{
 "cells": [
  {
   "cell_type": "code",
   "execution_count": 2,
   "metadata": {},
   "outputs": [],
   "source": [
    "import requests\n",
    "from bs4 import BeautifulSoup"
   ]
  },
  {
   "cell_type": "code",
   "execution_count": 3,
   "metadata": {},
   "outputs": [],
   "source": [
    "urlTarget = \"https://www.linguee.fr/francais-anglais/search?source=auto&query=love\"\n",
    "response = requests.get(urlTarget)\n",
    "soup = BeautifulSoup(response.text,'html.parser')\n",
    "souplettesBody = soup.find('div')"
   ]
  },
  {
   "cell_type": "code",
   "execution_count": 4,
   "metadata": {},
   "outputs": [],
   "source": [
    "word = souplettesBody.findAll('div',{\"class\":\"isForeignTerm\"})\n",
    "word = [v.find(\"a\").text.strip() for v in word][0]"
   ]
  },
  {
   "cell_type": "code",
   "execution_count": 5,
   "metadata": {},
   "outputs": [
    {
     "data": {
      "text/plain": [
       "'love'"
      ]
     },
     "execution_count": 5,
     "metadata": {},
     "output_type": "execute_result"
    }
   ],
   "source": [
    "word"
   ]
  },
  {
   "cell_type": "code",
   "execution_count": 6,
   "metadata": {},
   "outputs": [],
   "source": [
    "files = souplettesBody.findAll('a',{\"class\":\"audio\"})\n",
    "files_split = files[0][\"onclick\"].replace(\"playSound\",\"\").replace(\";\",\"\").replace(\"\\\"\", \"\").split(\",\")"
   ]
  },
  {
   "cell_type": "code",
   "execution_count": 7,
   "metadata": {},
   "outputs": [
    {
     "data": {
      "text/plain": [
       "['(this',\n",
       " 'EN_US/b5/b5c0b187fe309af0f4d35982fd961d7e-300',\n",
       " 'anglais américain',\n",
       " 'EN_UK/b5/b5c0b187fe309af0f4d35982fd961d7e-300',\n",
       " 'anglais britannique)']"
      ]
     },
     "execution_count": 7,
     "metadata": {},
     "output_type": "execute_result"
    }
   ],
   "source": [
    "files_split"
   ]
  },
  {
   "cell_type": "code",
   "execution_count": 8,
   "metadata": {},
   "outputs": [
    {
     "data": {
      "text/plain": [
       "{'EN_UK': 'https://www.linguee.fr/mp3/EN_UK/b5/b5c0b187fe309af0f4d35982fd961d7e-300.mp3',\n",
       " 'EN_US': 'https://www.linguee.fr/mp3/EN_US/b5/b5c0b187fe309af0f4d35982fd961d7e-300.mp3'}"
      ]
     },
     "execution_count": 8,
     "metadata": {},
     "output_type": "execute_result"
    }
   ],
   "source": [
    "files_split = {files_split[1].split(\"/\")[0]:\"https://www.linguee.fr/mp3/\"+files_split[1]+\".mp3\",files_split[3].split(\"/\")[0]:\"https://www.linguee.fr/mp3/\"+files_split[3]+\".mp3\"}\n",
    "files_split"
   ]
  },
  {
   "cell_type": "code",
   "execution_count": 9,
   "metadata": {},
   "outputs": [
    {
     "data": {
      "text/html": [
       "\n",
       "                <audio controls=\"controls\" >\n",
       "                    <source src=\"https://www.linguee.fr/mp3/EN_UK/b5/b5c0b187fe309af0f4d35982fd961d7e-300.mp3\" type=\"audio/mpeg\" />\n",
       "                    Your browser does not support the audio element.\n",
       "                </audio>\n",
       "              "
      ],
      "text/plain": [
       "<IPython.lib.display.Audio object>"
      ]
     },
     "execution_count": 9,
     "metadata": {},
     "output_type": "execute_result"
    }
   ],
   "source": [
    "from IPython.display import Audio\n",
    "Audio(url=files_split[\"EN_UK\"])"
   ]
  },
  {
   "cell_type": "code",
   "execution_count": 10,
   "metadata": {},
   "outputs": [
    {
     "data": {
      "text/html": [
       "\n",
       "                <audio controls=\"controls\" >\n",
       "                    <source src=\"https://www.linguee.fr/mp3/EN_US/b5/b5c0b187fe309af0f4d35982fd961d7e-300.mp3\" type=\"audio/mpeg\" />\n",
       "                    Your browser does not support the audio element.\n",
       "                </audio>\n",
       "              "
      ],
      "text/plain": [
       "<IPython.lib.display.Audio object>"
      ]
     },
     "execution_count": 10,
     "metadata": {},
     "output_type": "execute_result"
    }
   ],
   "source": [
    "Audio(url=files_split[\"EN_US\"])"
   ]
  }
 ],
 "metadata": {
  "kernelspec": {
   "display_name": "Python 3",
   "language": "python",
   "name": "python3"
  },
  "language_info": {
   "codemirror_mode": {
    "name": "ipython",
    "version": 3
   },
   "file_extension": ".py",
   "mimetype": "text/x-python",
   "name": "python",
   "nbconvert_exporter": "python",
   "pygments_lexer": "ipython3",
   "version": "3.6.9"
  }
 },
 "nbformat": 4,
 "nbformat_minor": 4
}
