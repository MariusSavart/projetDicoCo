{
 "cells": [
  {
   "cell_type": "code",
   "execution_count": 1,
   "metadata": {},
   "outputs": [],
   "source": [
    "import pandas as pd\n",
    "import numpy as np"
   ]
  },
  {
   "cell_type": "code",
   "execution_count": 3,
   "metadata": {},
   "outputs": [],
   "source": [
    "# préciser le chemin du fichier à lire\n",
    "cheminDuFichierCSV = \"./../data/dictionary/1757_Buchanan-J.csv\" \n",
    "\n",
    "# demander à pandas de lire le fichier et garder ce tableau accessible dans une variable\n",
    "dfDicoBuch = pd.read_csv(cheminDuFichierCSV, delimiter=\";\", encoding=\"utf8\")"
   ]
  },
  {
   "cell_type": "code",
   "execution_count": 4,
   "metadata": {},
   "outputs": [
    {
     "data": {
      "text/html": [
       "<div>\n",
       "<style scoped>\n",
       "    .dataframe tbody tr th:only-of-type {\n",
       "        vertical-align: middle;\n",
       "    }\n",
       "\n",
       "    .dataframe tbody tr th {\n",
       "        vertical-align: top;\n",
       "    }\n",
       "\n",
       "    .dataframe thead th {\n",
       "        text-align: right;\n",
       "    }\n",
       "</style>\n",
       "<table border=\"1\" class=\"dataframe\">\n",
       "  <thead>\n",
       "    <tr style=\"text-align: right;\">\n",
       "      <th></th>\n",
       "      <th>nbSyll</th>\n",
       "      <th>pron</th>\n",
       "      <th>origin</th>\n",
       "      <th>warning</th>\n",
       "      <th>remarques</th>\n",
       "      <th>POS</th>\n",
       "      <th>lineId</th>\n",
       "      <th>pageId</th>\n",
       "    </tr>\n",
       "  </thead>\n",
       "  <tbody>\n",
       "    <tr>\n",
       "      <th>0</th>\n",
       "      <td>3</td>\n",
       "      <td>aʹbăcus</td>\n",
       "      <td>NaN</td>\n",
       "      <td>NaN</td>\n",
       "      <td>NaN</td>\n",
       "      <td>n.</td>\n",
       "      <td>2.0</td>\n",
       "      <td>19</td>\n",
       "    </tr>\n",
       "    <tr>\n",
       "      <th>1</th>\n",
       "      <td>2</td>\n",
       "      <td>ăbăʹft</td>\n",
       "      <td>NaN</td>\n",
       "      <td>NaN</td>\n",
       "      <td>NaN</td>\n",
       "      <td>p.</td>\n",
       "      <td>3.0</td>\n",
       "      <td>19</td>\n",
       "    </tr>\n",
       "    <tr>\n",
       "      <th>2</th>\n",
       "      <td>3</td>\n",
       "      <td>ăbaiʹſănce</td>\n",
       "      <td>F.</td>\n",
       "      <td>NaN</td>\n",
       "      <td>NaN</td>\n",
       "      <td>n.</td>\n",
       "      <td>4.0</td>\n",
       "      <td>19</td>\n",
       "    </tr>\n",
       "    <tr>\n",
       "      <th>3</th>\n",
       "      <td>3</td>\n",
       "      <td>ābăʹndon</td>\n",
       "      <td>F.</td>\n",
       "      <td>NaN</td>\n",
       "      <td>NaN</td>\n",
       "      <td>v.</td>\n",
       "      <td>5.0</td>\n",
       "      <td>19</td>\n",
       "    </tr>\n",
       "    <tr>\n",
       "      <th>4</th>\n",
       "      <td>4</td>\n",
       "      <td>ābăʹndŏned</td>\n",
       "      <td>NaN</td>\n",
       "      <td>NaN</td>\n",
       "      <td>NaN</td>\n",
       "      <td>a.</td>\n",
       "      <td>6.0</td>\n",
       "      <td>19</td>\n",
       "    </tr>\n",
       "  </tbody>\n",
       "</table>\n",
       "</div>"
      ],
      "text/plain": [
       "   nbSyll        pron origin warning remarques POS  lineId  pageId\n",
       "0       3     aʹbăcus    NaN     NaN       NaN  n.     2.0      19\n",
       "1       2      ăbăʹft    NaN     NaN       NaN  p.     3.0      19\n",
       "2       3  ăbaiʹſănce     F.     NaN       NaN  n.     4.0      19\n",
       "3       3    ābăʹndon     F.     NaN       NaN  v.     5.0      19\n",
       "4       4  ābăʹndŏned    NaN     NaN       NaN  a.     6.0      19"
      ]
     },
     "execution_count": 4,
     "metadata": {},
     "output_type": "execute_result"
    }
   ],
   "source": [
    "dfDicoBuch.head()"
   ]
  },
  {
   "cell_type": "code",
   "execution_count": 11,
   "metadata": {},
   "outputs": [],
   "source": [
    "dfLetters = pd.read_csv(\"./../data/dictionary/Buchanan_PronChar_counts.csv\", delimiter=\";\", encoding=\"utf8\")"
   ]
  },
  {
   "cell_type": "code",
   "execution_count": 73,
   "metadata": {},
   "outputs": [],
   "source": [
    "dfLetters = pd.read_csv(\"./../data/dictionary/Buchanan_PronChar_counts.csv\", delimiter=\";\", encoding=\"utf8\")\n",
    "dfLetters = dfLetters.replace(np.nan, '', regex=True)"
   ]
  },
  {
   "cell_type": "code",
   "execution_count": 74,
   "metadata": {
    "scrolled": true
   },
   "outputs": [
    {
     "data": {
      "text/html": [
       "<div>\n",
       "<style scoped>\n",
       "    .dataframe tbody tr th:only-of-type {\n",
       "        vertical-align: middle;\n",
       "    }\n",
       "\n",
       "    .dataframe tbody tr th {\n",
       "        vertical-align: top;\n",
       "    }\n",
       "\n",
       "    .dataframe thead th {\n",
       "        text-align: right;\n",
       "    }\n",
       "</style>\n",
       "<table border=\"1\" class=\"dataframe\">\n",
       "  <thead>\n",
       "    <tr style=\"text-align: right;\">\n",
       "      <th></th>\n",
       "      <th>char</th>\n",
       "      <th>occ</th>\n",
       "      <th>graph</th>\n",
       "    </tr>\n",
       "  </thead>\n",
       "  <tbody>\n",
       "    <tr>\n",
       "      <th>0</th>\n",
       "      <td>a</td>\n",
       "      <td>3207</td>\n",
       "      <td>a</td>\n",
       "    </tr>\n",
       "    <tr>\n",
       "      <th>1</th>\n",
       "      <td>ʹ</td>\n",
       "      <td>12725</td>\n",
       "      <td></td>\n",
       "    </tr>\n",
       "    <tr>\n",
       "      <th>2</th>\n",
       "      <td>b</td>\n",
       "      <td>2288</td>\n",
       "      <td>b</td>\n",
       "    </tr>\n",
       "    <tr>\n",
       "      <th>3</th>\n",
       "      <td>ă</td>\n",
       "      <td>4533</td>\n",
       "      <td>a</td>\n",
       "    </tr>\n",
       "    <tr>\n",
       "      <th>4</th>\n",
       "      <td>c</td>\n",
       "      <td>5500</td>\n",
       "      <td>c</td>\n",
       "    </tr>\n",
       "    <tr>\n",
       "      <th>...</th>\n",
       "      <td>...</td>\n",
       "      <td>...</td>\n",
       "      <td>...</td>\n",
       "    </tr>\n",
       "    <tr>\n",
       "      <th>68</th>\n",
       "      <td>á</td>\n",
       "      <td>1</td>\n",
       "      <td>a</td>\n",
       "    </tr>\n",
       "    <tr>\n",
       "      <th>69</th>\n",
       "      <td>I</td>\n",
       "      <td>1</td>\n",
       "      <td>l</td>\n",
       "    </tr>\n",
       "    <tr>\n",
       "      <th>70</th>\n",
       "      <td>х</td>\n",
       "      <td>2</td>\n",
       "      <td>x</td>\n",
       "    </tr>\n",
       "    <tr>\n",
       "      <th>71</th>\n",
       "      <td>р</td>\n",
       "      <td>1</td>\n",
       "      <td>p</td>\n",
       "    </tr>\n",
       "    <tr>\n",
       "      <th>72</th>\n",
       "      <td>ï</td>\n",
       "      <td>1</td>\n",
       "      <td>i</td>\n",
       "    </tr>\n",
       "  </tbody>\n",
       "</table>\n",
       "<p>73 rows × 3 columns</p>\n",
       "</div>"
      ],
      "text/plain": [
       "   char    occ graph\n",
       "0     a   3207     a\n",
       "1     ʹ  12725      \n",
       "2     b   2288     b\n",
       "3     ă   4533     a\n",
       "4     c   5500     c\n",
       "..  ...    ...   ...\n",
       "68    á      1     a\n",
       "69    I      1     l\n",
       "70    х      2     x\n",
       "71    р      1     p\n",
       "72    ï      1     i\n",
       "\n",
       "[73 rows x 3 columns]"
      ]
     },
     "execution_count": 74,
     "metadata": {},
     "output_type": "execute_result"
    }
   ],
   "source": [
    "dfLetters"
   ]
  },
  {
   "cell_type": "code",
   "execution_count": 77,
   "metadata": {},
   "outputs": [
    {
     "data": {
      "text/plain": [
       "True"
      ]
     },
     "execution_count": 77,
     "metadata": {},
     "output_type": "execute_result"
    }
   ],
   "source": [
    "dfLetters[\"graph\"][dfLetters[\"char\"] == \"ʹ\"][1] == \"\""
   ]
  },
  {
   "cell_type": "code",
   "execution_count": 78,
   "metadata": {},
   "outputs": [
    {
     "data": {
      "text/plain": [
       "'michel'"
      ]
     },
     "execution_count": 78,
     "metadata": {},
     "output_type": "execute_result"
    }
   ],
   "source": [
    "\"michel\".replace(\"oui\",\"test\")"
   ]
  },
  {
   "cell_type": "code",
   "execution_count": 104,
   "metadata": {},
   "outputs": [],
   "source": [
    "dfDicoBuch[\"headWord\"] = None"
   ]
  },
  {
   "cell_type": "code",
   "execution_count": 105,
   "metadata": {},
   "outputs": [
    {
     "data": {
      "text/plain": [
       "'u'"
      ]
     },
     "execution_count": 105,
     "metadata": {},
     "output_type": "execute_result"
    }
   ],
   "source": [
    "dfLetters[\"graph\"][dfLetters[\"char\"]==char][dfLetters[\"graph\"][dfLetters[\"char\"]==char].index[0]]"
   ]
  },
  {
   "cell_type": "code",
   "execution_count": 108,
   "metadata": {},
   "outputs": [
    {
     "name": "stderr",
     "output_type": "stream",
     "text": [
      "/usr/lib/python3/dist-packages/ipykernel_launcher.py:5: SettingWithCopyWarning: \n",
      "A value is trying to be set on a copy of a slice from a DataFrame\n",
      "\n",
      "See the caveats in the documentation: https://pandas.pydata.org/pandas-docs/stable/user_guide/indexing.html#returning-a-view-versus-a-copy\n",
      "  \"\"\"\n"
     ]
    }
   ],
   "source": [
    "for i in range(len(dfDicoBuch)):\n",
    "    word = dfDicoBuch[\"pron\"][i]\n",
    "    for char in list(dfLetters[\"char\"]):\n",
    "        word = word.replace(char, dfLetters[\"graph\"][dfLetters[\"char\"]==char][dfLetters[\"graph\"][dfLetters[\"char\"]==char].index[0]])\n",
    "    dfDicoBuch[\"headWord\"][i] = word"
   ]
  },
  {
   "cell_type": "code",
   "execution_count": 110,
   "metadata": {},
   "outputs": [
    {
     "data": {
      "text/html": [
       "<div>\n",
       "<style scoped>\n",
       "    .dataframe tbody tr th:only-of-type {\n",
       "        vertical-align: middle;\n",
       "    }\n",
       "\n",
       "    .dataframe tbody tr th {\n",
       "        vertical-align: top;\n",
       "    }\n",
       "\n",
       "    .dataframe thead th {\n",
       "        text-align: right;\n",
       "    }\n",
       "</style>\n",
       "<table border=\"1\" class=\"dataframe\">\n",
       "  <thead>\n",
       "    <tr style=\"text-align: right;\">\n",
       "      <th></th>\n",
       "      <th>nbSyll</th>\n",
       "      <th>pron</th>\n",
       "      <th>origin</th>\n",
       "      <th>warning</th>\n",
       "      <th>remarques</th>\n",
       "      <th>POS</th>\n",
       "      <th>lineId</th>\n",
       "      <th>pageId</th>\n",
       "      <th>headWord</th>\n",
       "    </tr>\n",
       "  </thead>\n",
       "  <tbody>\n",
       "    <tr>\n",
       "      <th>0</th>\n",
       "      <td>3</td>\n",
       "      <td>aʹbăcus</td>\n",
       "      <td>NaN</td>\n",
       "      <td>NaN</td>\n",
       "      <td>NaN</td>\n",
       "      <td>n.</td>\n",
       "      <td>2.0</td>\n",
       "      <td>19</td>\n",
       "      <td>abacus</td>\n",
       "    </tr>\n",
       "    <tr>\n",
       "      <th>1</th>\n",
       "      <td>2</td>\n",
       "      <td>ăbăʹft</td>\n",
       "      <td>NaN</td>\n",
       "      <td>NaN</td>\n",
       "      <td>NaN</td>\n",
       "      <td>p.</td>\n",
       "      <td>3.0</td>\n",
       "      <td>19</td>\n",
       "      <td>abaft</td>\n",
       "    </tr>\n",
       "    <tr>\n",
       "      <th>2</th>\n",
       "      <td>3</td>\n",
       "      <td>ăbaiʹſănce</td>\n",
       "      <td>F.</td>\n",
       "      <td>NaN</td>\n",
       "      <td>NaN</td>\n",
       "      <td>n.</td>\n",
       "      <td>4.0</td>\n",
       "      <td>19</td>\n",
       "      <td>abaisance</td>\n",
       "    </tr>\n",
       "    <tr>\n",
       "      <th>3</th>\n",
       "      <td>3</td>\n",
       "      <td>ābăʹndon</td>\n",
       "      <td>F.</td>\n",
       "      <td>NaN</td>\n",
       "      <td>NaN</td>\n",
       "      <td>v.</td>\n",
       "      <td>5.0</td>\n",
       "      <td>19</td>\n",
       "      <td>abandon</td>\n",
       "    </tr>\n",
       "    <tr>\n",
       "      <th>4</th>\n",
       "      <td>4</td>\n",
       "      <td>ābăʹndŏned</td>\n",
       "      <td>NaN</td>\n",
       "      <td>NaN</td>\n",
       "      <td>NaN</td>\n",
       "      <td>a.</td>\n",
       "      <td>6.0</td>\n",
       "      <td>19</td>\n",
       "      <td>abandoned</td>\n",
       "    </tr>\n",
       "  </tbody>\n",
       "</table>\n",
       "</div>"
      ],
      "text/plain": [
       "   nbSyll        pron origin warning remarques POS  lineId  pageId   headWord\n",
       "0       3     aʹbăcus    NaN     NaN       NaN  n.     2.0      19     abacus\n",
       "1       2      ăbăʹft    NaN     NaN       NaN  p.     3.0      19      abaft\n",
       "2       3  ăbaiʹſănce     F.     NaN       NaN  n.     4.0      19  abaisance\n",
       "3       3    ābăʹndon     F.     NaN       NaN  v.     5.0      19    abandon\n",
       "4       4  ābăʹndŏned    NaN     NaN       NaN  a.     6.0      19  abandoned"
      ]
     },
     "execution_count": 110,
     "metadata": {},
     "output_type": "execute_result"
    }
   ],
   "source": [
    "dfDicoBuch.head()"
   ]
  },
  {
   "cell_type": "code",
   "execution_count": 27,
   "metadata": {
    "scrolled": true
   },
   "outputs": [],
   "source": [
    "dfDicoBuch.to_csv(\"./../data/dataframe/new_dataframe.csv\", sep=\";\")"
   ]
  },
  {
   "cell_type": "code",
   "execution_count": 19,
   "metadata": {},
   "outputs": [],
   "source": [
    "dfDicoBush = pd.read_csv(\"./../data/dataframe/new_dataframe.csv\", sep=\";\")"
   ]
  },
  {
   "cell_type": "code",
   "execution_count": 13,
   "metadata": {},
   "outputs": [
    {
     "data": {
      "text/html": [
       "<div>\n",
       "<style scoped>\n",
       "    .dataframe tbody tr th:only-of-type {\n",
       "        vertical-align: middle;\n",
       "    }\n",
       "\n",
       "    .dataframe tbody tr th {\n",
       "        vertical-align: top;\n",
       "    }\n",
       "\n",
       "    .dataframe thead th {\n",
       "        text-align: right;\n",
       "    }\n",
       "</style>\n",
       "<table border=\"1\" class=\"dataframe\">\n",
       "  <thead>\n",
       "    <tr style=\"text-align: right;\">\n",
       "      <th></th>\n",
       "      <th>hwd</th>\n",
       "      <th>pronSampa</th>\n",
       "      <th>ipa</th>\n",
       "    </tr>\n",
       "  </thead>\n",
       "  <tbody>\n",
       "    <tr>\n",
       "      <th>0</th>\n",
       "      <td>a</td>\n",
       "      <td>@</td>\n",
       "      <td>ə</td>\n",
       "    </tr>\n",
       "    <tr>\n",
       "      <th>1</th>\n",
       "      <td>a(2)</td>\n",
       "      <td>eI</td>\n",
       "      <td>?</td>\n",
       "    </tr>\n",
       "    <tr>\n",
       "      <th>2</th>\n",
       "      <td>a'ready</td>\n",
       "      <td>@ r\\ E d i:</td>\n",
       "      <td>əɹɛdiː</td>\n",
       "    </tr>\n",
       "    <tr>\n",
       "      <th>3</th>\n",
       "      <td>a's</td>\n",
       "      <td>eI z</td>\n",
       "      <td>?z</td>\n",
       "    </tr>\n",
       "    <tr>\n",
       "      <th>4</th>\n",
       "      <td>a.</td>\n",
       "      <td>eI</td>\n",
       "      <td>?</td>\n",
       "    </tr>\n",
       "    <tr>\n",
       "      <th>...</th>\n",
       "      <td>...</td>\n",
       "      <td>...</td>\n",
       "      <td>...</td>\n",
       "    </tr>\n",
       "    <tr>\n",
       "      <th>131098</th>\n",
       "      <td>zyuganov's(3)</td>\n",
       "      <td>z u g A n A v z</td>\n",
       "      <td>zugɑnɑvz</td>\n",
       "    </tr>\n",
       "    <tr>\n",
       "      <th>131099</th>\n",
       "      <td>zyuganov's(4)</td>\n",
       "      <td>z u g A n A f s</td>\n",
       "      <td>zugɑnɑfs</td>\n",
       "    </tr>\n",
       "    <tr>\n",
       "      <th>131100</th>\n",
       "      <td>zywicki</td>\n",
       "      <td>z i w I k i:</td>\n",
       "      <td>ziwɪkiː</td>\n",
       "    </tr>\n",
       "    <tr>\n",
       "      <th>131101</th>\n",
       "      <td>zzzz</td>\n",
       "      <td>z i: z</td>\n",
       "      <td>ziːz</td>\n",
       "    </tr>\n",
       "    <tr>\n",
       "      <th>131102</th>\n",
       "      <td>zzzz(2)</td>\n",
       "      <td>z z</td>\n",
       "      <td>zz</td>\n",
       "    </tr>\n",
       "  </tbody>\n",
       "</table>\n",
       "<p>131103 rows × 3 columns</p>\n",
       "</div>"
      ],
      "text/plain": [
       "                  hwd        pronSampa       ipa\n",
       "0                   a                @         ə\n",
       "1                a(2)               eI         ?\n",
       "2             a'ready      @ r\\ E d i:    əɹɛdiː\n",
       "3                 a's             eI z        ?z\n",
       "4                  a.               eI         ?\n",
       "...               ...              ...       ...\n",
       "131098  zyuganov's(3)  z u g A n A v z  zugɑnɑvz\n",
       "131099  zyuganov's(4)  z u g A n A f s  zugɑnɑfs\n",
       "131100        zywicki     z i w I k i:   ziwɪkiː\n",
       "131101           zzzz           z i: z      ziːz\n",
       "131102        zzzz(2)              z z        zz\n",
       "\n",
       "[131103 rows x 3 columns]"
      ]
     },
     "execution_count": 13,
     "metadata": {},
     "output_type": "execute_result"
    }
   ],
   "source": [
    "# ne garder que la première occurence pour éviter une indécision mais ce n'est pas terrible. A discuter avec les linguistes.\n",
    "cheminDuMappingSampaIpa = \"./../data/dictionary/sampa-ipa.txt\" \n",
    "dfMappingSampaIpa = pd.read_csv(cheminDuMappingSampaIpa, delimiter=\"  *\", encoding=\"utf8\", engine='python', names=['sampa','ipa'])\n",
    "dfMappingSampaIpa.sample(n=3)\n",
    "dfMappingSampaIpa.drop_duplicates(subset=['sampa'], keep='first', inplace=True)\n",
    "def sampa2ipa(strSampa, dfMapping):\n",
    "    ipaRes = \"\"\n",
    "    \n",
    "    listValSampa = strSampa.split(\" \")\n",
    "    #print(listValSampa)\n",
    "    for valSampa in listValSampa:\n",
    "        dfRowFinded = dfMapping[dfMapping['sampa']==valSampa]\n",
    "\n",
    "        if len(dfRowFinded==1):\n",
    "            ipaRes+=dfRowFinded.iloc[0]['ipa']\n",
    "        else:\n",
    "            ipaRes+='?'\n",
    "    return ipaRes\n",
    "dfDicoBigi = pd.read_csv(\"./../data/dictionary/2015_Bigi-B.dict\", delimiter=\" \\[\\] \", encoding=\"utf8\", engine='python', names=['hwd','pronSampa'], skiprows=8 )\n",
    "\n",
    "dfDicoBigiRich = dfDicoBigi.copy()\n",
    "\n",
    "dfDicoBigiRich['ipa'] = dfDicoBigiRich.apply(lambda x: sampa2ipa(x['pronSampa'], dfMappingSampaIpa),1)\n",
    "\n",
    "dfDicoBigiRich\n",
    "#dfDicoBigiRich\n",
    "#pathDicoBigiRich = \"./../data/dataframe/BigiRichSample.csv\"\n",
    "#dfDicoBigiRich.to_csv(pathDicoBigiRich, sep=\";\",encoding=\"utf8\",index=False)"
   ]
  },
  {
   "cell_type": "code",
   "execution_count": 15,
   "metadata": {},
   "outputs": [],
   "source": [
    "pathDicoBigiRich = \"./../data/dataframe/ipa_final.csv\"\n",
    "dfDicoBigiRich.to_csv(pathDicoBigiRich, sep=\";\",encoding=\"utf8\",index=False)"
   ]
  },
  {
   "cell_type": "code",
   "execution_count": 16,
   "metadata": {},
   "outputs": [],
   "source": [
    "dfDicoBigiRich = pd.read_csv(\"./../data/dataframe/ipa_final.csv\", sep=\";\",encoding=\"utf8\", engine='python', names=['hwd','pronSampa', \"ipa\"], skiprows=9)"
   ]
  },
  {
   "cell_type": "code",
   "execution_count": 17,
   "metadata": {},
   "outputs": [
    {
     "data": {
      "text/html": [
       "<div>\n",
       "<style scoped>\n",
       "    .dataframe tbody tr th:only-of-type {\n",
       "        vertical-align: middle;\n",
       "    }\n",
       "\n",
       "    .dataframe tbody tr th {\n",
       "        vertical-align: top;\n",
       "    }\n",
       "\n",
       "    .dataframe thead th {\n",
       "        text-align: right;\n",
       "    }\n",
       "</style>\n",
       "<table border=\"1\" class=\"dataframe\">\n",
       "  <thead>\n",
       "    <tr style=\"text-align: right;\">\n",
       "      <th></th>\n",
       "      <th>hwd</th>\n",
       "      <th>pronSampa</th>\n",
       "      <th>ipa</th>\n",
       "    </tr>\n",
       "  </thead>\n",
       "  <tbody>\n",
       "    <tr>\n",
       "      <th>0</th>\n",
       "      <td>aaa</td>\n",
       "      <td>t r\\ I p @ l eI</td>\n",
       "      <td>tɹɪpəl?</td>\n",
       "    </tr>\n",
       "    <tr>\n",
       "      <th>1</th>\n",
       "      <td>aaberg</td>\n",
       "      <td>A b 3:r g</td>\n",
       "      <td>ɑbɜ:rg</td>\n",
       "    </tr>\n",
       "    <tr>\n",
       "      <th>2</th>\n",
       "      <td>aachen</td>\n",
       "      <td>A k @ n</td>\n",
       "      <td>ɑkən</td>\n",
       "    </tr>\n",
       "    <tr>\n",
       "      <th>3</th>\n",
       "      <td>aaker</td>\n",
       "      <td>A k 3:r</td>\n",
       "      <td>ɑkɜ:r</td>\n",
       "    </tr>\n",
       "    <tr>\n",
       "      <th>4</th>\n",
       "      <td>aalseth</td>\n",
       "      <td>A l s E T</td>\n",
       "      <td>ɑlsɛθ</td>\n",
       "    </tr>\n",
       "  </tbody>\n",
       "</table>\n",
       "</div>"
      ],
      "text/plain": [
       "       hwd        pronSampa      ipa\n",
       "0      aaa  t r\\ I p @ l eI  tɹɪpəl?\n",
       "1   aaberg        A b 3:r g   ɑbɜ:rg\n",
       "2   aachen          A k @ n     ɑkən\n",
       "3    aaker          A k 3:r    ɑkɜ:r\n",
       "4  aalseth        A l s E T    ɑlsɛθ"
      ]
     },
     "execution_count": 17,
     "metadata": {},
     "output_type": "execute_result"
    }
   ],
   "source": [
    "dfDicoBigiRich.head()"
   ]
  },
  {
   "cell_type": "code",
   "execution_count": 23,
   "metadata": {},
   "outputs": [],
   "source": [
    "dfDicoBigiRich = dfDicoBigiRich.rename(columns={\"hwd\": \"headWord\"})"
   ]
  },
  {
   "cell_type": "code",
   "execution_count": 25,
   "metadata": {},
   "outputs": [
    {
     "data": {
      "text/html": [
       "<div>\n",
       "<style scoped>\n",
       "    .dataframe tbody tr th:only-of-type {\n",
       "        vertical-align: middle;\n",
       "    }\n",
       "\n",
       "    .dataframe tbody tr th {\n",
       "        vertical-align: top;\n",
       "    }\n",
       "\n",
       "    .dataframe thead th {\n",
       "        text-align: right;\n",
       "    }\n",
       "</style>\n",
       "<table border=\"1\" class=\"dataframe\">\n",
       "  <thead>\n",
       "    <tr style=\"text-align: right;\">\n",
       "      <th></th>\n",
       "      <th>headWord</th>\n",
       "      <th>pronSampa</th>\n",
       "      <th>ipa</th>\n",
       "    </tr>\n",
       "  </thead>\n",
       "  <tbody>\n",
       "    <tr>\n",
       "      <th>0</th>\n",
       "      <td>aaa</td>\n",
       "      <td>t r\\ I p @ l eI</td>\n",
       "      <td>tɹɪpəl?</td>\n",
       "    </tr>\n",
       "    <tr>\n",
       "      <th>1</th>\n",
       "      <td>aaberg</td>\n",
       "      <td>A b 3:r g</td>\n",
       "      <td>ɑbɜ:rg</td>\n",
       "    </tr>\n",
       "    <tr>\n",
       "      <th>2</th>\n",
       "      <td>aachen</td>\n",
       "      <td>A k @ n</td>\n",
       "      <td>ɑkən</td>\n",
       "    </tr>\n",
       "    <tr>\n",
       "      <th>3</th>\n",
       "      <td>aaker</td>\n",
       "      <td>A k 3:r</td>\n",
       "      <td>ɑkɜ:r</td>\n",
       "    </tr>\n",
       "    <tr>\n",
       "      <th>4</th>\n",
       "      <td>aalseth</td>\n",
       "      <td>A l s E T</td>\n",
       "      <td>ɑlsɛθ</td>\n",
       "    </tr>\n",
       "  </tbody>\n",
       "</table>\n",
       "</div>"
      ],
      "text/plain": [
       "  headWord        pronSampa      ipa\n",
       "0      aaa  t r\\ I p @ l eI  tɹɪpəl?\n",
       "1   aaberg        A b 3:r g   ɑbɜ:rg\n",
       "2   aachen          A k @ n     ɑkən\n",
       "3    aaker          A k 3:r    ɑkɜ:r\n",
       "4  aalseth        A l s E T    ɑlsɛθ"
      ]
     },
     "execution_count": 25,
     "metadata": {},
     "output_type": "execute_result"
    }
   ],
   "source": [
    "dfDicoBigiRich.head()"
   ]
  },
  {
   "cell_type": "code",
   "execution_count": 21,
   "metadata": {},
   "outputs": [],
   "source": [
    "dfDicoBuch = pd.read_csv(\"./../data/dataframe/new_dataframe.csv\", sep=\";\")"
   ]
  },
  {
   "cell_type": "code",
   "execution_count": 36,
   "metadata": {},
   "outputs": [],
   "source": [
    "dfDicoBuch = dfDicoBuch.merge(dfDicoBigiRich, on= \"headWord\", how=\"left\").drop(columns = [\"warning\", \"remarques\"])"
   ]
  },
  {
   "cell_type": "code",
   "execution_count": 37,
   "metadata": {},
   "outputs": [
    {
     "data": {
      "text/html": [
       "<div>\n",
       "<style scoped>\n",
       "    .dataframe tbody tr th:only-of-type {\n",
       "        vertical-align: middle;\n",
       "    }\n",
       "\n",
       "    .dataframe tbody tr th {\n",
       "        vertical-align: top;\n",
       "    }\n",
       "\n",
       "    .dataframe thead th {\n",
       "        text-align: right;\n",
       "    }\n",
       "</style>\n",
       "<table border=\"1\" class=\"dataframe\">\n",
       "  <thead>\n",
       "    <tr style=\"text-align: right;\">\n",
       "      <th></th>\n",
       "      <th>nbSyll</th>\n",
       "      <th>pron</th>\n",
       "      <th>origin</th>\n",
       "      <th>POS</th>\n",
       "      <th>lineId</th>\n",
       "      <th>pageId</th>\n",
       "      <th>headWord</th>\n",
       "      <th>pronSampa_x</th>\n",
       "      <th>ipa_x</th>\n",
       "      <th>pronSampa_y</th>\n",
       "      <th>ipa_y</th>\n",
       "    </tr>\n",
       "  </thead>\n",
       "  <tbody>\n",
       "    <tr>\n",
       "      <th>0</th>\n",
       "      <td>3</td>\n",
       "      <td>aʹbăcus</td>\n",
       "      <td>NaN</td>\n",
       "      <td>n.</td>\n",
       "      <td>2.0</td>\n",
       "      <td>19</td>\n",
       "      <td>abacus</td>\n",
       "      <td>{ b @ k @ s</td>\n",
       "      <td>æbəkəs</td>\n",
       "      <td>{ b @ k @ s</td>\n",
       "      <td>æbəkəs</td>\n",
       "    </tr>\n",
       "    <tr>\n",
       "      <th>1</th>\n",
       "      <td>2</td>\n",
       "      <td>ăbăʹft</td>\n",
       "      <td>NaN</td>\n",
       "      <td>p.</td>\n",
       "      <td>3.0</td>\n",
       "      <td>19</td>\n",
       "      <td>abaft</td>\n",
       "      <td>NaN</td>\n",
       "      <td>NaN</td>\n",
       "      <td>NaN</td>\n",
       "      <td>NaN</td>\n",
       "    </tr>\n",
       "    <tr>\n",
       "      <th>2</th>\n",
       "      <td>3</td>\n",
       "      <td>ăbaiʹſănce</td>\n",
       "      <td>F.</td>\n",
       "      <td>n.</td>\n",
       "      <td>4.0</td>\n",
       "      <td>19</td>\n",
       "      <td>abaisance</td>\n",
       "      <td>NaN</td>\n",
       "      <td>NaN</td>\n",
       "      <td>NaN</td>\n",
       "      <td>NaN</td>\n",
       "    </tr>\n",
       "    <tr>\n",
       "      <th>3</th>\n",
       "      <td>3</td>\n",
       "      <td>ābăʹndon</td>\n",
       "      <td>F.</td>\n",
       "      <td>v.</td>\n",
       "      <td>5.0</td>\n",
       "      <td>19</td>\n",
       "      <td>abandon</td>\n",
       "      <td>@ b { n d @ n</td>\n",
       "      <td>əbændən</td>\n",
       "      <td>@ b { n d @ n</td>\n",
       "      <td>əbændən</td>\n",
       "    </tr>\n",
       "    <tr>\n",
       "      <th>4</th>\n",
       "      <td>4</td>\n",
       "      <td>ābăʹndŏned</td>\n",
       "      <td>NaN</td>\n",
       "      <td>a.</td>\n",
       "      <td>6.0</td>\n",
       "      <td>19</td>\n",
       "      <td>abandoned</td>\n",
       "      <td>@ b { n d @ n d</td>\n",
       "      <td>əbændənd</td>\n",
       "      <td>@ b { n d @ n d</td>\n",
       "      <td>əbændənd</td>\n",
       "    </tr>\n",
       "  </tbody>\n",
       "</table>\n",
       "</div>"
      ],
      "text/plain": [
       "   nbSyll        pron origin POS  lineId  pageId   headWord      pronSampa_x  \\\n",
       "0       3     aʹbăcus    NaN  n.     2.0      19     abacus      { b @ k @ s   \n",
       "1       2      ăbăʹft    NaN  p.     3.0      19      abaft              NaN   \n",
       "2       3  ăbaiʹſănce     F.  n.     4.0      19  abaisance              NaN   \n",
       "3       3    ābăʹndon     F.  v.     5.0      19    abandon    @ b { n d @ n   \n",
       "4       4  ābăʹndŏned    NaN  a.     6.0      19  abandoned  @ b { n d @ n d   \n",
       "\n",
       "      ipa_x      pronSampa_y     ipa_y  \n",
       "0    æbəkəs      { b @ k @ s    æbəkəs  \n",
       "1       NaN              NaN       NaN  \n",
       "2       NaN              NaN       NaN  \n",
       "3   əbændən    @ b { n d @ n   əbændən  \n",
       "4  əbændənd  @ b { n d @ n d  əbændənd  "
      ]
     },
     "execution_count": 37,
     "metadata": {},
     "output_type": "execute_result"
    }
   ],
   "source": [
    "dfDicoBuch.head()"
   ]
  },
  {
   "cell_type": "code",
   "execution_count": 38,
   "metadata": {},
   "outputs": [],
   "source": [
    "dfDicoBuch.to_csv(\"./../data/dataframe/new_dataframe.csv\", sep=\";\",index=False)"
   ]
  }
 ],
 "metadata": {
  "kernelspec": {
   "display_name": "Python 3",
   "language": "python",
   "name": "python3"
  },
  "language_info": {
   "codemirror_mode": {
    "name": "ipython",
    "version": 3
   },
   "file_extension": ".py",
   "mimetype": "text/x-python",
   "name": "python",
   "nbconvert_exporter": "python",
   "pygments_lexer": "ipython3",
   "version": "3.6.9"
  }
 },
 "nbformat": 4,
 "nbformat_minor": 4
}
