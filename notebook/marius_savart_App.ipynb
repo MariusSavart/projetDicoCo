{
 "cells": [
  {
   "cell_type": "markdown",
   "metadata": {},
   "source": [
    "# DicoCo\n",
    "\n",
    "Marius Savart"
   ]
  },
  {
   "cell_type": "markdown",
   "metadata": {},
   "source": [
    "Cette version est celle avec librosa car sur mybinder je ne peux pas intégrer mon projet avec librosa"
   ]
  },
  {
   "cell_type": "code",
   "execution_count": 36,
   "metadata": {},
   "outputs": [],
   "source": [
    "# import necessaire à la création des widgets\n",
    "import IPython\n",
    "from IPython.display import display, clear_output, HTML, Markdown, Audio \n",
    "import ipywidgets as widgets\n",
    "import pandas as pd\n",
    "import numpy as np\n",
    "import requests\n",
    "from bs4 import BeautifulSoup\n",
    "import matplotlib.pyplot as plt\n",
    "import warnings\n",
    "warnings.filterwarnings('ignore')\n",
    "#%matplotlib ipympl"
   ]
  },
  {
   "cell_type": "code",
   "execution_count": 37,
   "metadata": {},
   "outputs": [],
   "source": [
    "# definition du widget permettant de taper un texte \n",
    "textTarget = widgets.Text(\n",
    "       value=\"\",\n",
    "       description='filtre hwd',\n",
    "       layout={'width': '300px'} )"
   ]
  },
  {
   "cell_type": "code",
   "execution_count": 38,
   "metadata": {},
   "outputs": [],
   "source": [
    "def getWordInfos(word):\n",
    "    urlTarget = \"https://www.linguee.fr/francais-anglais/search?source=auto&query=\"+word\n",
    "    response = requests.get(urlTarget)\n",
    "    soup = BeautifulSoup(response.text,'html.parser')\n",
    "    souplettesBody = soup.find('div')\n",
    "    word = souplettesBody.findAll('div',{\"class\":\"isForeignTerm\"})\n",
    "\n",
    "    files = souplettesBody.findAll('a',{\"class\":\"audio\"})\n",
    "    word = [v.find(\"a\").text.strip() for v in word][0]\n",
    "    files_split = files[0][\"onclick\"].replace(\"playSound\",\"\").replace(\";\",\"\").replace(\"\\\"\", \"\").split(\",\")\n",
    "    files_split = {files_split[1].split(\"/\")[0]:\"https://www.linguee.fr/mp3/\"+files_split[1]+\".mp3\",files_split[3].split(\"/\")[0]:\"https://www.linguee.fr/mp3/\"+files_split[3]+\".mp3\"}\n",
    "    return word, files_split"
   ]
  },
  {
   "cell_type": "code",
   "execution_count": 39,
   "metadata": {},
   "outputs": [],
   "source": [
    "# définition du widget button permettant de lancer l'extraction\n",
    "button = widgets.Button(description='Démarrer')\n",
    "\n",
    "rangeSlideBar = widgets.IntRangeSlider(\n",
    "    value=[0, 10],\n",
    "    min=0,\n",
    "    max=10,\n",
    "    step=1,\n",
    "    description='Nombres syllabes:',\n",
    "    disabled=False,\n",
    "    continuous_update=True,\n",
    "    orientation='horizontal',\n",
    "    readout=True,\n",
    "    readout_format='d',\n",
    ")\n",
    "\n",
    "slideBar = widgets.IntSlider(\n",
    "    value=0,\n",
    "    min=0,\n",
    "    max=10,\n",
    "    step=1,\n",
    "    description='Max échantillons:',\n",
    "    disabled=False,\n",
    "    continuous_update=True,\n",
    "    orientation='horizontal',\n",
    "    readout=True,\n",
    "    readout_format='d'\n",
    ")\n",
    "\n",
    "# définition du widget permettant l'affichage d'une sortie\n",
    "out1 = widgets.Output()\n",
    "out2 = widgets.Output()\n",
    "out3 = widgets.Output()\n",
    "out4 = widgets.Output()\n",
    "out5 = widgets.Output()\n",
    "\n",
    "cheminDuFichierCSV = \"./../data/dataframe/new_dataframe.csv\" \n",
    "\n",
    "# demander à pandas de lire le fichier et garder ce tableau accessible dans une variable\n",
    "df = pd.read_csv(cheminDuFichierCSV, delimiter=\";\", encoding=\"utf8\")\n",
    "df = df.replace(np.nan, '', regex=True)\n",
    "df = df[df.headWord.isin([\"\"]) == False]\n",
    "\n",
    "# spécifier les actions à réaliser lors de l'appui sur le bouton\n",
    "def on_button_clicked(_):\n",
    "    \n",
    "    # récupérer le texte saisi par l'utilisateur\n",
    "    targetWord = textTarget.value\n",
    "    nbSyll = rangeSlideBar.value\n",
    "    \n",
    "    df_target = df.copy()\n",
    "    \n",
    "    with out1:\n",
    "        clear_output()\n",
    "        df_target = df_target[df_target[\"headWord\"].str.contains(targetWord)]\n",
    "        df_target = df_target[(df_target[\"nbSyll\"] >= nbSyll[0]) & (df_target[\"nbSyll\"] <= nbSyll[1])]\n",
    "        if slideBar.value == 0:\n",
    "\n",
    "            word, files = getWordInfos(df_target[\"headWord\"][df_target.index.tolist()[0]])\n",
    "            display(df_target)\n",
    "        else:\n",
    "            df_target = df_target.sample(n=slideBar.value)\n",
    "            word, files = getWordInfos(df_target[\"headWord\"][df_target.index.tolist()[0]])\n",
    "            display(df_target)\n",
    "    with out2:\n",
    "        clear_output()\n",
    "        display(\"nombres occurences \",len(df_target))\n",
    "    \n",
    "    with out3:\n",
    "        clear_output()\n",
    "        url = files[\"EN_UK\"]\n",
    "        r = requests.get(url, allow_redirects=True)\n",
    "\n",
    "        localPath = \"./../data/audio/1.mp3\"\n",
    "        open(localPath, 'wb').write(r.content)\n",
    "        display(Audio(filename=localPath))\n",
    "    with out4:\n",
    "        clear_output()\n",
    "        url = files[\"EN_US\"]\n",
    "        r = requests.get(url, allow_redirects=True)\n",
    "\n",
    "        localPath = \"./../data/audio/2.mp3\"\n",
    "        open(localPath, 'wb').write(r.content)\n",
    "        display(Audio(filename=localPath))\n",
    "        \n",
    "button.on_click(on_button_clicked)"
   ]
  },
  {
   "cell_type": "code",
   "execution_count": 40,
   "metadata": {},
   "outputs": [
    {
     "data": {
      "text/plain": [
       "False"
      ]
     },
     "execution_count": 40,
     "metadata": {},
     "output_type": "execute_result"
    }
   ],
   "source": [
    "df[\"nbSyll\"][0] >4"
   ]
  },
  {
   "cell_type": "code",
   "execution_count": 41,
   "metadata": {},
   "outputs": [],
   "source": [
    "def returnDf():\n",
    "    # préciser le chemin du fichier à lire\n",
    "    cheminDuFichierCSV = \"./../data/dictionary/1757_Buchanan-J.csv\" \n",
    "\n",
    "    # demander à pandas de lire le fichier et garder ce tableau accessible dans une variable\n",
    "    dfDicoBuch = pd.read_csv(cheminDuFichierCSV, delimiter=\";\", encoding=\"utf8\")\n",
    "    \n",
    "    dfLetters = pd.read_csv(\"./../data/dictionary/Buchanan_PronChar_counts.csv\", delimiter=\";\", encoding=\"utf8\")\n",
    "    dfLetters = dfLetters.replace(np.nan, '', regex=True)\n",
    "    dfDicoBuch[\"headWord\"]= None\n",
    "    \n",
    "    for i in range(len(dfDicoBuch)):\n",
    "        word = dfDicoBuch[\"pron\"][i]\n",
    "        for char in list(dfLetters[\"char\"]):\n",
    "            word = word.replace(char, dfLetters[\"graph\"][dfLetters[\"char\"]==char][dfLetters[\"graph\"][dfLetters[\"char\"]==char].index[0]])\n",
    "        dfDicoBuch[\"headWord\"][i] = word\n",
    "    return dfDicoBuch"
   ]
  },
  {
   "cell_type": "code",
   "execution_count": 42,
   "metadata": {},
   "outputs": [],
   "source": [
    "def getDf(word, nbSyll):\n",
    "    # récupérer le texte saisi par l'utilisateur\n",
    "    targetWord = textTarget.value\n",
    "    df_target = df.copy()\n",
    "    with out1:\n",
    "        clear_output()\n",
    "        df_target = nbSyll[0] <= df_target[df_target[\"headWord\"].str.match(word).str.len() <= nbSyll[1]]\n",
    "        display(df_target)\n",
    "    with out2:\n",
    "        clear_output()\n",
    "        display(len(df_target))"
   ]
  },
  {
   "cell_type": "code",
   "execution_count": 43,
   "metadata": {
    "scrolled": false
   },
   "outputs": [
    {
     "data": {
      "application/vnd.jupyter.widget-view+json": {
       "model_id": "6981c0710f2748ec9ff39a5873de76d5",
       "version_major": 2,
       "version_minor": 0
      },
      "text/plain": [
       "VBox(children=(HBox(children=(Text(value='', description='filtre hwd', layout=Layout(width='300px')), IntRange…"
      ]
     },
     "metadata": {},
     "output_type": "display_data"
    }
   ],
   "source": [
    "# les widgets de filtre input\n",
    "vbFiltres = widgets.HBox([textTarget, rangeSlideBar, slideBar, button])\n",
    "\n",
    "# les widgets d'output\n",
    "vbAudio = widgets.HBox([out3, out4])\n",
    "vbOuts = widgets.VBox([out1,out2,vbAudio, out5])\n",
    "\n",
    "hbAllWidgets = widgets.VBox([vbFiltres,vbOuts])\n",
    "hbAllWidgets"
   ]
  },
  {
   "cell_type": "code",
   "execution_count": null,
   "metadata": {},
   "outputs": [],
   "source": []
  },
  {
   "cell_type": "code",
   "execution_count": null,
   "metadata": {},
   "outputs": [],
   "source": []
  }
 ],
 "metadata": {
  "kernelspec": {
   "display_name": "Python 3",
   "language": "python",
   "name": "python3"
  },
  "language_info": {
   "codemirror_mode": {
    "name": "ipython",
    "version": 3
   },
   "file_extension": ".py",
   "mimetype": "text/x-python",
   "name": "python",
   "nbconvert_exporter": "python",
   "pygments_lexer": "ipython3",
   "version": "3.6.9"
  }
 },
 "nbformat": 4,
 "nbformat_minor": 4
}
